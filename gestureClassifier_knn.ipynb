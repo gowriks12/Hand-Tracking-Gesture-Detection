{
 "cells": [
  {
   "cell_type": "code",
   "execution_count": 4,
   "id": "dbda7bf9",
   "metadata": {},
   "outputs": [],
   "source": [
    "import pandas as pd\n",
    "from sklearn import preprocessing\n",
    "from sklearn.model_selection import train_test_split\n",
    "from sklearn.neighbors import KNeighborsClassifier\n",
    "from sklearn.metrics import accuracy_score\n",
    "import pickle \n",
    "\n"
   ]
  },
  {
   "cell_type": "code",
   "execution_count": 10,
   "id": "b37571be",
   "metadata": {},
   "outputs": [],
   "source": [
    "def create_knn_model(file):\n",
    "    df = pd.read_csv(file)\n",
    "    features = df.columns\n",
    "    labels = df[\"class\"].tolist()\n",
    "    \n",
    "    #Train test split\n",
    "    X = df.drop(columns = ['class'])\n",
    "    y = labels\n",
    "    X_train, X_test, y_train, y_test = train_test_split(X, y, train_size=0.8, random_state = 0)\n",
    "    \n",
    "    # Creating KNN Model\n",
    "    k = 3\n",
    "    knn = KNeighborsClassifier(n_neighbors=k,weights='distance',metric='euclidean')\n",
    "    knn.fit(X_train, y_train)\n",
    "    y_pred = knn.predict(X_test)\n",
    "    print(\"Accuracy:\",accuracy_score(y_test, y_pred))\n",
    "    \n",
    "    return knn"
   ]
  },
  {
   "cell_type": "code",
   "execution_count": 11,
   "id": "3f5af1d5",
   "metadata": {},
   "outputs": [
    {
     "name": "stdout",
     "output_type": "stream",
     "text": [
      "Accuracy: 0.9583333333333334\n"
     ]
    }
   ],
   "source": [
    "knn_model = create_knn_model(\"handlandmarks.csv\")\n",
    "# Its important to use binary mode \n",
    "knnPickle = open('knnpickle_file', 'wb') \n",
    "\n",
    "# source, destination \n",
    "pickle.dump(knn_model, knnPickle)  "
   ]
  },
  {
   "cell_type": "code",
   "execution_count": 7,
   "id": "8c73bc22",
   "metadata": {},
   "outputs": [],
   "source": [
    "\n",
    "test = [0, 40.11234224026316, 78.89233169326408, 102.82509421342633, 133.60014970051492, 128.41339493993607, 188.76705220985997, 224.5373020235168, 254.03149411047443, 121.0495766204905, 193.8891435846783, 234.19649869287116, 267.1722290957651, 106.07544484940895, 148.08443537387717, 109.04127658827184, 79.37883848986453, 88.60022573334675, 99.72462083156798, 66.48308055437865, 42.485291572496]\n",
    "test1 = [0, 60.83584469702052, 118.06777714516353, 162.48384535085327, 207.03864373589778, 170.07351351694948, 227.343352662883, 258.30408436569485, 291.2387336876742, 173.9798838946618, 237.08437316702253, 274.23530042647684, 310.871356030111, 165.0272704737008, 227.17834403833479, 268.8215021161812, 306.28254929068356, 151.00993344810135, 203.17972339778396, 235.53555994796199, 269.3120866207085]\n",
    "test2 = [0, 47.41307836451879, 106.00471687618433, 154.434452114805, 191.12822920751398, 158.3729774930054, 153.3883959105121, 114.12712210513327, 121.49074038789952, 147.12239802287073, 144.183910336764, 94.72592042308166, 108.26818553942798, 135.6244815658294, 135.29966740535616, 94.76286192385707, 97.18538984847466, 128.89142717807107, 131.89768762188365, 101.84301645179212, 94.92101980067429]\n",
    "\n",
    "# load the model from disk\n",
    "loaded_model = pickle.load(open('knnpickle_file', 'rb'))\n"
   ]
  },
  {
   "cell_type": "code",
   "execution_count": 9,
   "id": "bda0e9a1",
   "metadata": {},
   "outputs": [
    {
     "name": "stdout",
     "output_type": "stream",
     "text": [
      "livelong\n"
     ]
    }
   ],
   "source": [
    "result = loaded_model.predict([test1]) \n",
    "print(result[0])"
   ]
  },
  {
   "cell_type": "code",
   "execution_count": null,
   "id": "9f92ec9b",
   "metadata": {},
   "outputs": [],
   "source": []
  }
 ],
 "metadata": {
  "kernelspec": {
   "display_name": "Python 3",
   "language": "python",
   "name": "python3"
  },
  "language_info": {
   "codemirror_mode": {
    "name": "ipython",
    "version": 3
   },
   "file_extension": ".py",
   "mimetype": "text/x-python",
   "name": "python",
   "nbconvert_exporter": "python",
   "pygments_lexer": "ipython3",
   "version": "3.8.8"
  }
 },
 "nbformat": 4,
 "nbformat_minor": 5
}
