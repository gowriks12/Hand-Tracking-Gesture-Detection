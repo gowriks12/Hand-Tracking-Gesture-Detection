{
 "cells": [
  {
   "cell_type": "code",
   "execution_count": 1,
   "id": "e4662000",
   "metadata": {},
   "outputs": [],
   "source": [
    "import cv2\n",
    "import numpy as np\n",
    "import mediapipe as mp\n",
    "import time\n",
    "import handTrackingModule as hmt\n",
    "import tensorflow as tf\n",
    "from tensorflow.keras.models import load_model\n"
   ]
  },
  {
   "cell_type": "code",
   "execution_count": 2,
   "id": "ea893abd",
   "metadata": {},
   "outputs": [
    {
     "name": "stdout",
     "output_type": "stream",
     "text": [
      "['okay', 'peace', 'thumbs up', 'thumbs down', 'call me', 'stop', 'rock', 'live long', 'fist', 'smile']\n"
     ]
    }
   ],
   "source": [
    "# Load the gesture recognizer model\n",
    "model = load_model('mp_hand_gesture')\n",
    "# Load class names\n",
    "f = open('gesture.names', 'r')\n",
    "classNames = f.read().split('\\n')\n",
    "f.close()\n",
    "print(classNames)"
   ]
  },
  {
   "cell_type": "code",
   "execution_count": 6,
   "id": "72f32fd9",
   "metadata": {},
   "outputs": [],
   "source": [
    "cTime = 0\n",
    "pTime = 0\n",
    "cap = cv2.VideoCapture(0)\n",
    "detector = hmt.HandDetector()\n",
    "while True:\n",
    "    success, img = cap.read()\n",
    "    img = cv2.flip(img, 1)\n",
    "    img = detector.findHands(img)\n",
    "    className = \"\"\n",
    "    lmList = detector.findPosition(img,draw=False)\n",
    "    if len(lmList) != 0:\n",
    "        # Predict gesture\n",
    "            prediction = model.predict([lmList])\n",
    "            # print(prediction)\n",
    "            classID = np.argmax(prediction)\n",
    "            className = classNames[classID]\n",
    "#         print(lmList[4])    \n",
    "\n",
    "    cTime = time.time()\n",
    "    fps = 1 / (cTime - pTime)\n",
    "    pTime = cTime\n",
    "    cv2.putText(img, className, (10, 50), cv2.FONT_HERSHEY_SIMPLEX, 1, (0,0,255), 2, cv2.LINE_AA)\n",
    "    cv2.imshow(\"Image\", img)\n",
    "    if cv2.waitKey(1) == ord('q'):\n",
    "        break\n",
    "# release the webcam and destroy all active windows\n",
    "cap.release()\n",
    "cv2.destroyAllWindows()"
   ]
  },
  {
   "cell_type": "code",
   "execution_count": null,
   "id": "1d6010d2",
   "metadata": {},
   "outputs": [],
   "source": []
  },
  {
   "cell_type": "code",
   "execution_count": null,
   "id": "cf1c7df7",
   "metadata": {},
   "outputs": [],
   "source": []
  },
  {
   "cell_type": "code",
   "execution_count": null,
   "id": "7fcc081c",
   "metadata": {},
   "outputs": [],
   "source": []
  }
 ],
 "metadata": {
  "kernelspec": {
   "display_name": "Python 3",
   "language": "python",
   "name": "python3"
  },
  "language_info": {
   "codemirror_mode": {
    "name": "ipython",
    "version": 3
   },
   "file_extension": ".py",
   "mimetype": "text/x-python",
   "name": "python",
   "nbconvert_exporter": "python",
   "pygments_lexer": "ipython3",
   "version": "3.8.8"
  }
 },
 "nbformat": 4,
 "nbformat_minor": 5
}
