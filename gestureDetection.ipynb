{
 "cells": [
  {
   "cell_type": "code",
   "execution_count": 2,
   "id": "e4662000",
   "metadata": {},
   "outputs": [],
   "source": [
    "import cv2\n",
    "import numpy as np\n",
    "import mediapipe as mp\n",
    "import time\n",
    "import handTrackingModule as hmt\n",
    "import pickle\n"
   ]
  },
  {
   "cell_type": "code",
   "execution_count": 3,
   "id": "ed6e6f24",
   "metadata": {},
   "outputs": [],
   "source": [
    "# load the model from disk\n",
    "# loaded_model = pickle.load(open('knnpickle_file', 'rb'))\n",
    "loaded_model = pickle.load(open('svm_pickle_file.sav', 'rb'))\n",
    "# result = loaded_model.predict([test]) "
   ]
  },
  {
   "cell_type": "code",
   "execution_count": 4,
   "id": "72f32fd9",
   "metadata": {},
   "outputs": [],
   "source": [
    "cTime = 0\n",
    "pTime = 0\n",
    "cap = cv2.VideoCapture(0)\n",
    "detector = hmt.HandDetector()\n",
    "while True:\n",
    "    success, img = cap.read()\n",
    "    img = cv2.flip(img, 1)\n",
    "    img = detector.findHands(img)\n",
    "    className = \"\"\n",
    "    lmList = detector.findPosition(img,draw=False)\n",
    "    lmDist = []\n",
    "    lmDist.append(0)\n",
    "    if len(lmList) != 0:\n",
    "        #Calculating the distance between points\n",
    "        for i in range(1, len(lmList)):            \n",
    "            lmDist.append(((lmList[i][0] - lmList[0][0])**2 + (lmList[i][1] - lmList[0][1])**2)**0.5)\n",
    "        # Predict gesture\n",
    "        prediction = loaded_model.predict([lmDist])\n",
    "            # print(prediction)\n",
    "#             classID = np.argmax(prediction)\n",
    "        className = prediction[0]\n",
    "#         print(lmList[4])    \n",
    "\n",
    "    cTime = time.time()\n",
    "    fps = 1 / (cTime - pTime)\n",
    "    pTime = cTime\n",
    "    cv2.putText(img, className, (10, 50), cv2.FONT_HERSHEY_SIMPLEX, 1, (0,0,255), 2, cv2.LINE_AA)\n",
    "    cv2.imshow(\"Image\", img)\n",
    "    if cv2.waitKey(1) == ord('q'):\n",
    "        break\n",
    "# release the webcam and destroy all active windows\n",
    "cap.release()\n",
    "cv2.destroyAllWindows()"
   ]
  },
  {
   "cell_type": "code",
   "execution_count": null,
   "id": "15664188",
   "metadata": {},
   "outputs": [],
   "source": []
  }
 ],
 "metadata": {
  "kernelspec": {
   "display_name": "Python 3",
   "language": "python",
   "name": "python3"
  },
  "language_info": {
   "codemirror_mode": {
    "name": "ipython",
    "version": 3
   },
   "file_extension": ".py",
   "mimetype": "text/x-python",
   "name": "python",
   "nbconvert_exporter": "python",
   "pygments_lexer": "ipython3",
   "version": "3.8.8"
  }
 },
 "nbformat": 4,
 "nbformat_minor": 5
}
