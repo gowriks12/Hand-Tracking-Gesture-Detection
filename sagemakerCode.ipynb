{
 "cells": [
  {
   "cell_type": "code",
   "execution_count": 1,
   "id": "38ac16a5-6dd4-4185-94d3-1c7d7cd8bc1c",
   "metadata": {},
   "outputs": [
    {
     "name": "stdout",
     "output_type": "stream",
     "text": [
      "sagemaker.config INFO - Not applying SDK defaults from location: C:\\ProgramData\\sagemaker\\sagemaker\\config.yaml\n",
      "sagemaker.config INFO - Not applying SDK defaults from location: C:\\Users\\ACNusr2\\AppData\\Local\\sagemaker\\sagemaker\\config.yaml\n"
     ]
    }
   ],
   "source": [
    "import sagemaker\n",
    "import boto3 #used to connect to sagemaker\n",
    "import pandas as pd\n",
    "from sklearn.model_selection import train_test_split"
   ]
  },
  {
   "cell_type": "code",
   "execution_count": 2,
   "id": "544cffb2-1e1a-4d47-9da8-fe355c2fbf5e",
   "metadata": {},
   "outputs": [
    {
     "name": "stdout",
     "output_type": "stream",
     "text": [
      "sagemaker.config INFO - Not applying SDK defaults from location: C:\\ProgramData\\sagemaker\\sagemaker\\config.yaml\n",
      "sagemaker.config INFO - Not applying SDK defaults from location: C:\\Users\\ACNusr2\\AppData\\Local\\sagemaker\\sagemaker\\config.yaml\n",
      "Using bucket handtrackbucket\n"
     ]
    }
   ],
   "source": [
    "sm_boto3 = boto3.client(\"sagemaker\")\n",
    "sess = sagemaker.Session()\n",
    "region = sess.boto_session.region_name\n",
    "bucket = 'handtrackbucket' #Created s3 bucket name\n",
    "print(\"Using bucket\" , bucket)"
   ]
  },
  {
   "cell_type": "code",
   "execution_count": 3,
   "id": "faec476c-0d2e-4c86-b941-7b376e7702ba",
   "metadata": {},
   "outputs": [],
   "source": [
    "df = pd.read_csv(\"handlandmarks.csv\")"
   ]
  },
  {
   "cell_type": "code",
   "execution_count": 4,
   "id": "e1dc1b98-feeb-4bd2-b87f-c596ba908921",
   "metadata": {},
   "outputs": [
    {
     "data": {
      "text/html": [
       "<div>\n",
       "<style scoped>\n",
       "    .dataframe tbody tr th:only-of-type {\n",
       "        vertical-align: middle;\n",
       "    }\n",
       "\n",
       "    .dataframe tbody tr th {\n",
       "        vertical-align: top;\n",
       "    }\n",
       "\n",
       "    .dataframe thead th {\n",
       "        text-align: right;\n",
       "    }\n",
       "</style>\n",
       "<table border=\"1\" class=\"dataframe\">\n",
       "  <thead>\n",
       "    <tr style=\"text-align: right;\">\n",
       "      <th></th>\n",
       "      <th>0</th>\n",
       "      <th>1</th>\n",
       "      <th>2</th>\n",
       "      <th>3</th>\n",
       "      <th>4</th>\n",
       "      <th>5</th>\n",
       "      <th>6</th>\n",
       "      <th>7</th>\n",
       "      <th>8</th>\n",
       "      <th>9</th>\n",
       "      <th>...</th>\n",
       "      <th>12</th>\n",
       "      <th>13</th>\n",
       "      <th>14</th>\n",
       "      <th>15</th>\n",
       "      <th>16</th>\n",
       "      <th>17</th>\n",
       "      <th>18</th>\n",
       "      <th>19</th>\n",
       "      <th>20</th>\n",
       "      <th>class</th>\n",
       "    </tr>\n",
       "  </thead>\n",
       "  <tbody>\n",
       "    <tr>\n",
       "      <th>0</th>\n",
       "      <td>0</td>\n",
       "      <td>53.338541</td>\n",
       "      <td>99.403219</td>\n",
       "      <td>137.637204</td>\n",
       "      <td>171.819673</td>\n",
       "      <td>129.448832</td>\n",
       "      <td>164.246766</td>\n",
       "      <td>167.886867</td>\n",
       "      <td>162.689889</td>\n",
       "      <td>137.277092</td>\n",
       "      <td>...</td>\n",
       "      <td>259.886514</td>\n",
       "      <td>135.624482</td>\n",
       "      <td>194.177754</td>\n",
       "      <td>229.455878</td>\n",
       "      <td>260.762344</td>\n",
       "      <td>127.318498</td>\n",
       "      <td>174.393234</td>\n",
       "      <td>208.753443</td>\n",
       "      <td>239.883305</td>\n",
       "      <td>okay</td>\n",
       "    </tr>\n",
       "    <tr>\n",
       "      <th>1</th>\n",
       "      <td>0</td>\n",
       "      <td>51.000000</td>\n",
       "      <td>97.082439</td>\n",
       "      <td>133.962681</td>\n",
       "      <td>165.075740</td>\n",
       "      <td>124.064499</td>\n",
       "      <td>156.668440</td>\n",
       "      <td>160.078106</td>\n",
       "      <td>153.482898</td>\n",
       "      <td>131.734582</td>\n",
       "      <td>...</td>\n",
       "      <td>247.095123</td>\n",
       "      <td>130.980915</td>\n",
       "      <td>189.451841</td>\n",
       "      <td>223.617978</td>\n",
       "      <td>253.568531</td>\n",
       "      <td>124.036285</td>\n",
       "      <td>170.423003</td>\n",
       "      <td>203.482186</td>\n",
       "      <td>233.482333</td>\n",
       "      <td>okay</td>\n",
       "    </tr>\n",
       "    <tr>\n",
       "      <th>2</th>\n",
       "      <td>0</td>\n",
       "      <td>63.411355</td>\n",
       "      <td>120.208153</td>\n",
       "      <td>168.291414</td>\n",
       "      <td>211.690812</td>\n",
       "      <td>152.069063</td>\n",
       "      <td>199.248588</td>\n",
       "      <td>204.824315</td>\n",
       "      <td>200.551739</td>\n",
       "      <td>162.249807</td>\n",
       "      <td>...</td>\n",
       "      <td>300.562805</td>\n",
       "      <td>160.252925</td>\n",
       "      <td>225.319773</td>\n",
       "      <td>269.046464</td>\n",
       "      <td>304.041116</td>\n",
       "      <td>148.660687</td>\n",
       "      <td>202.000000</td>\n",
       "      <td>239.885389</td>\n",
       "      <td>270.283185</td>\n",
       "      <td>okay</td>\n",
       "    </tr>\n",
       "    <tr>\n",
       "      <th>3</th>\n",
       "      <td>0</td>\n",
       "      <td>35.777088</td>\n",
       "      <td>67.119297</td>\n",
       "      <td>95.210294</td>\n",
       "      <td>120.615090</td>\n",
       "      <td>83.815273</td>\n",
       "      <td>111.359777</td>\n",
       "      <td>117.889779</td>\n",
       "      <td>116.846053</td>\n",
       "      <td>93.059121</td>\n",
       "      <td>...</td>\n",
       "      <td>175.114248</td>\n",
       "      <td>97.000000</td>\n",
       "      <td>134.134261</td>\n",
       "      <td>158.619040</td>\n",
       "      <td>178.361991</td>\n",
       "      <td>96.509067</td>\n",
       "      <td>126.589889</td>\n",
       "      <td>147.231111</td>\n",
       "      <td>164.778639</td>\n",
       "      <td>okay</td>\n",
       "    </tr>\n",
       "    <tr>\n",
       "      <th>4</th>\n",
       "      <td>0</td>\n",
       "      <td>29.154759</td>\n",
       "      <td>56.938563</td>\n",
       "      <td>79.322128</td>\n",
       "      <td>95.131488</td>\n",
       "      <td>69.771054</td>\n",
       "      <td>91.416629</td>\n",
       "      <td>97.200823</td>\n",
       "      <td>96.208108</td>\n",
       "      <td>74.000000</td>\n",
       "      <td>...</td>\n",
       "      <td>135.955875</td>\n",
       "      <td>74.330344</td>\n",
       "      <td>102.591423</td>\n",
       "      <td>122.576507</td>\n",
       "      <td>136.795468</td>\n",
       "      <td>71.063352</td>\n",
       "      <td>95.005263</td>\n",
       "      <td>113.004425</td>\n",
       "      <td>126.000000</td>\n",
       "      <td>okay</td>\n",
       "    </tr>\n",
       "  </tbody>\n",
       "</table>\n",
       "<p>5 rows × 22 columns</p>\n",
       "</div>"
      ],
      "text/plain": [
       "   0          1           2           3           4           5           6  \\\n",
       "0  0  53.338541   99.403219  137.637204  171.819673  129.448832  164.246766   \n",
       "1  0  51.000000   97.082439  133.962681  165.075740  124.064499  156.668440   \n",
       "2  0  63.411355  120.208153  168.291414  211.690812  152.069063  199.248588   \n",
       "3  0  35.777088   67.119297   95.210294  120.615090   83.815273  111.359777   \n",
       "4  0  29.154759   56.938563   79.322128   95.131488   69.771054   91.416629   \n",
       "\n",
       "            7           8           9  ...          12          13  \\\n",
       "0  167.886867  162.689889  137.277092  ...  259.886514  135.624482   \n",
       "1  160.078106  153.482898  131.734582  ...  247.095123  130.980915   \n",
       "2  204.824315  200.551739  162.249807  ...  300.562805  160.252925   \n",
       "3  117.889779  116.846053   93.059121  ...  175.114248   97.000000   \n",
       "4   97.200823   96.208108   74.000000  ...  135.955875   74.330344   \n",
       "\n",
       "           14          15          16          17          18          19  \\\n",
       "0  194.177754  229.455878  260.762344  127.318498  174.393234  208.753443   \n",
       "1  189.451841  223.617978  253.568531  124.036285  170.423003  203.482186   \n",
       "2  225.319773  269.046464  304.041116  148.660687  202.000000  239.885389   \n",
       "3  134.134261  158.619040  178.361991   96.509067  126.589889  147.231111   \n",
       "4  102.591423  122.576507  136.795468   71.063352   95.005263  113.004425   \n",
       "\n",
       "           20  class  \n",
       "0  239.883305   okay  \n",
       "1  233.482333   okay  \n",
       "2  270.283185   okay  \n",
       "3  164.778639   okay  \n",
       "4  126.000000   okay  \n",
       "\n",
       "[5 rows x 22 columns]"
      ]
     },
     "execution_count": 4,
     "metadata": {},
     "output_type": "execute_result"
    }
   ],
   "source": [
    "df.head()"
   ]
  },
  {
   "cell_type": "code",
   "execution_count": 5,
   "id": "60565f14-53a5-4248-9df6-738a5d5c17f3",
   "metadata": {},
   "outputs": [],
   "source": [
    "features = df.columns\n",
    "labels = df[\"class\"].tolist()\n",
    "\n",
    "#Train test split\n",
    "X = df.drop(columns = ['class'])\n",
    "y = labels\n",
    "X_train, X_test, y_train, y_test = train_test_split(X, y, train_size=0.8, random_state = 0)"
   ]
  },
  {
   "cell_type": "code",
   "execution_count": 7,
   "id": "0ba21c0e-4f0e-41b0-bdd7-88f8f746c12e",
   "metadata": {},
   "outputs": [
    {
     "name": "stdout",
     "output_type": "stream",
     "text": [
      "(192, 22)\n",
      "(48, 22)\n"
     ]
    }
   ],
   "source": [
    "trainX = pd.DataFrame(X_train)\n",
    "trainX[\"class\"] = y_train\n",
    "\n",
    "testX = pd.DataFrame(X_test)\n",
    "testX[\"class\"] = y_test\n",
    "\n",
    "print(trainX.shape)\n",
    "print(testX.shape)"
   ]
  },
  {
   "cell_type": "code",
   "execution_count": 8,
   "id": "afe114fb-c2dc-453f-8e5f-f7a93b4ab769",
   "metadata": {},
   "outputs": [],
   "source": [
    "trainX.to_csv(\"train-V-1.csv\",index=False)\n",
    "testX.to_csv(\"test-V-1.csv\",index=False)"
   ]
  },
  {
   "cell_type": "code",
   "execution_count": 5,
   "id": "9cb0e558-cb39-4cf4-aebd-7070fce2e8aa",
   "metadata": {},
   "outputs": [],
   "source": [
    "sk_prefix = \"sagemaker/hand-gesture-classification/sklearncontainer\"\n",
    "trainpath = sess.upload_data(\n",
    "    path = \"train-V-1.csv\", bucket= bucket, key_prefix=sk_prefix\n",
    ")\n",
    "\n",
    "testpath = sess.upload_data(\n",
    "    path = \"test-V-1.csv\", bucket= bucket, key_prefix=sk_prefix\n",
    ")"
   ]
  },
  {
   "cell_type": "code",
   "execution_count": 10,
   "id": "5c8ac2e0-dc6f-4687-8b5b-2bfdcfa52ff9",
   "metadata": {},
   "outputs": [
    {
     "name": "stdout",
     "output_type": "stream",
     "text": [
      "Writing script.py\n"
     ]
    }
   ],
   "source": [
    "%%writefile script.py\n",
    "\n",
    "from sklearn.ensemble import RandomForestClassifier\n",
    "from sklearn.metrics import accuracy_score, classification_report, confusion_matrix, precision_score\n",
    "import sklearn\n",
    "import joblib\n",
    "import boto3\n",
    "import pathlib\n",
    "from io import StringIO\n",
    "import argparse\n",
    "import os\n",
    "import numpy as np\n",
    "import pandas as pd\n",
    "\n",
    "def model_fn(model_dir):\n",
    "    clf = joblib.load(os.path.join(model_dir, \"model.joblib\"))\n",
    "    return clf\n",
    "\n",
    "if __name__ =='__main__':\n",
    "\n",
    "    print(\"[INFO] Extracting arguments\")\n",
    "    parser = argparse.ArgumentParser()\n",
    "\n",
    "    # hyperparameters sent by the client are passed as command-line arguments to the script.\n",
    "    parser.add_argument('--n_estimators', type=int, default=100)\n",
    "    parser.add_argument('--random_state', type=int, default=0)\n",
    "    # parser.add_argument('--learning-rate', type=float, default=0.1)\n",
    "\n",
    "    # an alternative way to load hyperparameters via SM_HPS environment variable.\n",
    "    # parser.add_argument('--sm-hps', type=json.loads, default=os.environ['SM_HPS'])\n",
    "\n",
    "    # input data and model directories\n",
    "    parser.add_argument('--model-dir', type=str, default=os.environ['SM_MODEL_DIR'])\n",
    "    parser.add_argument('--train', type=str, default=os.environ['SM_CHANNEL_TRAIN'])\n",
    "    parser.add_argument('--test', type=str, default=os.environ['SM_CHANNEL_TEST'])\n",
    "    parser.add_argument('--train-file', type=str, default=\"train-V-1.csv\")\n",
    "    parser.add_argument('--test-file', type=str, default=\"test-V-1.csv\")\n",
    "\n",
    "    args, _ = parser.parse_known_args()\n",
    "    print(\"SKLearn Version: \", sklearn.__version__)\n",
    "    print(\"joblib Version: \", joblib.__version__)\n",
    "\n",
    "    print(\"[INFO] Reading data\")\n",
    "\n",
    "    train_df = pd.read_csv(os.path.join(args.train, args.train_file))\n",
    "    test_df = pd.read_csv(os.path.join(args.test, args.test_file))\n",
    "\n",
    "    features = list(train_df.columns)\n",
    "    label = features.pop(-1)\n",
    "\n",
    "    print(\"Building train and test datasets\")\n",
    "\n",
    "    #Train test split\n",
    "    X_train = train_df[features]\n",
    "    X_test = test_df[features]\n",
    "    y_train = train_df[label]\n",
    "    y_test = test_df[label]\n",
    "\n",
    "    print('Column order: ')\n",
    "    print(features)\n",
    "\n",
    "    print(\"Training random forest model.....\")\n",
    "    model = RandomForestClassifier(n_estimators=args.n_estimators, random_state = args.random_state)\n",
    "    model.fit(X_train, y_train)\n",
    "\n",
    "    model_path = os.path.join(args.model_dir, \"model.joblib\")\n",
    "    joblib.dump(model, model_path)\n",
    "    print(\"Model persisted at\", model_path)\n",
    "\n",
    "    y_pred_test = model.predict(X_test)\n",
    "    test_acc = accuracy_score(y_test, y_pred_test)\n",
    "    test_rep = classification_report(y_test, y_pred_test)\n",
    "\n",
    "    print(\"----Metrics results for testing data -----\")\n",
    "    print(\"Test accuracy is: \", test_acc)\n",
    "    print(\"Classification report: \")\n",
    "    print(test_rep)\n",
    "    "
   ]
  },
  {
   "cell_type": "code",
   "execution_count": 3,
   "id": "c5d36f25-7a94-4043-a170-684a00c1c7c5",
   "metadata": {},
   "outputs": [
    {
     "name": "stdout",
     "output_type": "stream",
     "text": [
      "sagemaker.config INFO - Not applying SDK defaults from location: C:\\ProgramData\\sagemaker\\sagemaker\\config.yaml\n",
      "sagemaker.config INFO - Not applying SDK defaults from location: C:\\Users\\ACNusr2\\AppData\\Local\\sagemaker\\sagemaker\\config.yaml\n"
     ]
    }
   ],
   "source": [
    "from sagemaker.sklearn.estimator import SKLearn\n",
    "\n",
    "FRAMEWORK_VERSION = \"0.23-1\"\n",
    "\n",
    "sklearn_estimator = SKLearn(\n",
    "    entry_point = \"script.py\",\n",
    "    role=\"arn:aws:iam::765477734195:role/AmazonSageMaker-ExecutionRole\",\n",
    "    instance_count = 1,\n",
    "    instance_type = \"ml.m5.large\",\n",
    "    framework_version = FRAMEWORK_VERSION,\n",
    "    base_job_name = \"RF-custom-sklearn\",\n",
    "    hyperparameters={\n",
    "        \"n_estimators\":100,\n",
    "        \"random_state\":0,\n",
    "    },\n",
    "    use_spot_instances = True,\n",
    "    max_wait = 7200,\n",
    "    max_run = 3600\n",
    ")\n",
    "    \n",
    "# arn:aws:iam::765477734195:user/Gowri_Admin"
   ]
  },
  {
   "cell_type": "code",
   "execution_count": 6,
   "id": "b3a3a838-938f-4575-bfe3-8af9d99ae78d",
   "metadata": {},
   "outputs": [
    {
     "name": "stdout",
     "output_type": "stream",
     "text": [
      "Using provided s3_resource\n"
     ]
    },
    {
     "name": "stderr",
     "output_type": "stream",
     "text": [
      "INFO:sagemaker:Creating training-job with name: RF-custom-sklearn-2023-10-30-17-21-10-992\n"
     ]
    },
    {
     "name": "stdout",
     "output_type": "stream",
     "text": [
      "2023-10-30 17:21:14 Starting - Starting the training job...\n",
      "2023-10-30 17:21:28 Starting - Preparing the instances for training......\n",
      "2023-10-30 17:22:49 Downloading - Downloading input data...\n",
      "2023-10-30 17:23:20 Training - Downloading the training image...\n",
      "2023-10-30 17:23:50 Training - Training image download completed. Training in progress..\u001b[34m2023-10-30 17:23:55,694 sagemaker-containers INFO     Imported framework sagemaker_sklearn_container.training\u001b[0m\n",
      "\u001b[34m2023-10-30 17:23:55,697 sagemaker-training-toolkit INFO     No GPUs detected (normal if no gpus installed)\u001b[0m\n",
      "\u001b[34m2023-10-30 17:23:55,737 sagemaker_sklearn_container.training INFO     Invoking user training script.\u001b[0m\n",
      "\u001b[34m2023-10-30 17:23:55,876 sagemaker-training-toolkit INFO     No GPUs detected (normal if no gpus installed)\u001b[0m\n",
      "\u001b[34m2023-10-30 17:23:55,888 sagemaker-training-toolkit INFO     No GPUs detected (normal if no gpus installed)\u001b[0m\n",
      "\u001b[34m2023-10-30 17:23:55,899 sagemaker-training-toolkit INFO     No GPUs detected (normal if no gpus installed)\u001b[0m\n",
      "\u001b[34m2023-10-30 17:23:55,908 sagemaker-training-toolkit INFO     Invoking user script\u001b[0m\n",
      "\u001b[34mTraining Env:\u001b[0m\n",
      "\u001b[34m{\n",
      "    \"additional_framework_parameters\": {},\n",
      "    \"channel_input_dirs\": {\n",
      "        \"test\": \"/opt/ml/input/data/test\",\n",
      "        \"train\": \"/opt/ml/input/data/train\"\n",
      "    },\n",
      "    \"current_host\": \"algo-1\",\n",
      "    \"framework_module\": \"sagemaker_sklearn_container.training:main\",\n",
      "    \"hosts\": [\n",
      "        \"algo-1\"\n",
      "    ],\n",
      "    \"hyperparameters\": {\n",
      "        \"n_estimators\": 100,\n",
      "        \"random_state\": 0\n",
      "    },\n",
      "    \"input_config_dir\": \"/opt/ml/input/config\",\n",
      "    \"input_data_config\": {\n",
      "        \"test\": {\n",
      "            \"TrainingInputMode\": \"File\",\n",
      "            \"S3DistributionType\": \"FullyReplicated\",\n",
      "            \"RecordWrapperType\": \"None\"\n",
      "        },\n",
      "        \"train\": {\n",
      "            \"TrainingInputMode\": \"File\",\n",
      "            \"S3DistributionType\": \"FullyReplicated\",\n",
      "            \"RecordWrapperType\": \"None\"\n",
      "        }\n",
      "    },\n",
      "    \"input_dir\": \"/opt/ml/input\",\n",
      "    \"is_master\": true,\n",
      "    \"job_name\": \"RF-custom-sklearn-2023-10-30-17-21-10-992\",\n",
      "    \"log_level\": 20,\n",
      "    \"master_hostname\": \"algo-1\",\n",
      "    \"model_dir\": \"/opt/ml/model\",\n",
      "    \"module_dir\": \"s3://sagemaker-us-east-2-765477734195/RF-custom-sklearn-2023-10-30-17-21-10-992/source/sourcedir.tar.gz\",\n",
      "    \"module_name\": \"script\",\n",
      "    \"network_interface_name\": \"eth0\",\n",
      "    \"num_cpus\": 2,\n",
      "    \"num_gpus\": 0,\n",
      "    \"output_data_dir\": \"/opt/ml/output/data\",\n",
      "    \"output_dir\": \"/opt/ml/output\",\n",
      "    \"output_intermediate_dir\": \"/opt/ml/output/intermediate\",\n",
      "    \"resource_config\": {\n",
      "        \"current_host\": \"algo-1\",\n",
      "        \"current_instance_type\": \"ml.m5.large\",\n",
      "        \"current_group_name\": \"homogeneousCluster\",\n",
      "        \"hosts\": [\n",
      "            \"algo-1\"\n",
      "        ],\n",
      "        \"instance_groups\": [\n",
      "            {\n",
      "                \"instance_group_name\": \"homogeneousCluster\",\n",
      "                \"instance_type\": \"ml.m5.large\",\n",
      "                \"hosts\": [\n",
      "                    \"algo-1\"\n",
      "                ]\n",
      "            }\n",
      "        ],\n",
      "        \"network_interface_name\": \"eth0\"\n",
      "    },\n",
      "    \"user_entry_point\": \"script.py\"\u001b[0m\n",
      "\u001b[34m}\u001b[0m\n",
      "\u001b[34mEnvironment variables:\u001b[0m\n",
      "\u001b[34mSM_HOSTS=[\"algo-1\"]\u001b[0m\n",
      "\u001b[34mSM_NETWORK_INTERFACE_NAME=eth0\u001b[0m\n",
      "\u001b[34mSM_HPS={\"n_estimators\":100,\"random_state\":0}\u001b[0m\n",
      "\u001b[34mSM_USER_ENTRY_POINT=script.py\u001b[0m\n",
      "\u001b[34mSM_FRAMEWORK_PARAMS={}\u001b[0m\n",
      "\u001b[34mSM_RESOURCE_CONFIG={\"current_group_name\":\"homogeneousCluster\",\"current_host\":\"algo-1\",\"current_instance_type\":\"ml.m5.large\",\"hosts\":[\"algo-1\"],\"instance_groups\":[{\"hosts\":[\"algo-1\"],\"instance_group_name\":\"homogeneousCluster\",\"instance_type\":\"ml.m5.large\"}],\"network_interface_name\":\"eth0\"}\u001b[0m\n",
      "\u001b[34mSM_INPUT_DATA_CONFIG={\"test\":{\"RecordWrapperType\":\"None\",\"S3DistributionType\":\"FullyReplicated\",\"TrainingInputMode\":\"File\"},\"train\":{\"RecordWrapperType\":\"None\",\"S3DistributionType\":\"FullyReplicated\",\"TrainingInputMode\":\"File\"}}\u001b[0m\n",
      "\u001b[34mSM_OUTPUT_DATA_DIR=/opt/ml/output/data\u001b[0m\n",
      "\u001b[34mSM_CHANNELS=[\"test\",\"train\"]\u001b[0m\n",
      "\u001b[34mSM_CURRENT_HOST=algo-1\u001b[0m\n",
      "\u001b[34mSM_MODULE_NAME=script\u001b[0m\n",
      "\u001b[34mSM_LOG_LEVEL=20\u001b[0m\n",
      "\u001b[34mSM_FRAMEWORK_MODULE=sagemaker_sklearn_container.training:main\u001b[0m\n",
      "\u001b[34mSM_INPUT_DIR=/opt/ml/input\u001b[0m\n",
      "\u001b[34mSM_INPUT_CONFIG_DIR=/opt/ml/input/config\u001b[0m\n",
      "\u001b[34mSM_OUTPUT_DIR=/opt/ml/output\u001b[0m\n",
      "\u001b[34mSM_NUM_CPUS=2\u001b[0m\n",
      "\u001b[34mSM_NUM_GPUS=0\u001b[0m\n",
      "\u001b[34mSM_MODEL_DIR=/opt/ml/model\u001b[0m\n",
      "\u001b[34mSM_MODULE_DIR=s3://sagemaker-us-east-2-765477734195/RF-custom-sklearn-2023-10-30-17-21-10-992/source/sourcedir.tar.gz\u001b[0m\n",
      "\u001b[34mSM_TRAINING_ENV={\"additional_framework_parameters\":{},\"channel_input_dirs\":{\"test\":\"/opt/ml/input/data/test\",\"train\":\"/opt/ml/input/data/train\"},\"current_host\":\"algo-1\",\"framework_module\":\"sagemaker_sklearn_container.training:main\",\"hosts\":[\"algo-1\"],\"hyperparameters\":{\"n_estimators\":100,\"random_state\":0},\"input_config_dir\":\"/opt/ml/input/config\",\"input_data_config\":{\"test\":{\"RecordWrapperType\":\"None\",\"S3DistributionType\":\"FullyReplicated\",\"TrainingInputMode\":\"File\"},\"train\":{\"RecordWrapperType\":\"None\",\"S3DistributionType\":\"FullyReplicated\",\"TrainingInputMode\":\"File\"}},\"input_dir\":\"/opt/ml/input\",\"is_master\":true,\"job_name\":\"RF-custom-sklearn-2023-10-30-17-21-10-992\",\"log_level\":20,\"master_hostname\":\"algo-1\",\"model_dir\":\"/opt/ml/model\",\"module_dir\":\"s3://sagemaker-us-east-2-765477734195/RF-custom-sklearn-2023-10-30-17-21-10-992/source/sourcedir.tar.gz\",\"module_name\":\"script\",\"network_interface_name\":\"eth0\",\"num_cpus\":2,\"num_gpus\":0,\"output_data_dir\":\"/opt/ml/output/data\",\"output_dir\":\"/opt/ml/output\",\"output_intermediate_dir\":\"/opt/ml/output/intermediate\",\"resource_config\":{\"current_group_name\":\"homogeneousCluster\",\"current_host\":\"algo-1\",\"current_instance_type\":\"ml.m5.large\",\"hosts\":[\"algo-1\"],\"instance_groups\":[{\"hosts\":[\"algo-1\"],\"instance_group_name\":\"homogeneousCluster\",\"instance_type\":\"ml.m5.large\"}],\"network_interface_name\":\"eth0\"},\"user_entry_point\":\"script.py\"}\u001b[0m\n",
      "\u001b[34mSM_USER_ARGS=[\"--n_estimators\",\"100\",\"--random_state\",\"0\"]\u001b[0m\n",
      "\u001b[34mSM_OUTPUT_INTERMEDIATE_DIR=/opt/ml/output/intermediate\u001b[0m\n",
      "\u001b[34mSM_CHANNEL_TEST=/opt/ml/input/data/test\u001b[0m\n",
      "\u001b[34mSM_CHANNEL_TRAIN=/opt/ml/input/data/train\u001b[0m\n",
      "\u001b[34mSM_HP_N_ESTIMATORS=100\u001b[0m\n",
      "\u001b[34mSM_HP_RANDOM_STATE=0\u001b[0m\n",
      "\u001b[34mPYTHONPATH=/opt/ml/code:/miniconda3/bin:/miniconda3/lib/python37.zip:/miniconda3/lib/python3.7:/miniconda3/lib/python3.7/lib-dynload:/miniconda3/lib/python3.7/site-packages\u001b[0m\n",
      "\u001b[34mInvoking script with the following command:\u001b[0m\n",
      "\u001b[34m/miniconda3/bin/python script.py --n_estimators 100 --random_state 0\u001b[0m\n",
      "\u001b[34m[INFO] Extracting arguments\u001b[0m\n",
      "\u001b[34mSKLearn Version:  0.23.2\u001b[0m\n",
      "\u001b[34mjoblib Version:  1.2.0\u001b[0m\n",
      "\u001b[34m[INFO] Reading data\u001b[0m\n",
      "\u001b[34mBuilding train and test datasets\u001b[0m\n",
      "\u001b[34mColumn order: \u001b[0m\n",
      "\u001b[34m['0', '1', '2', '3', '4', '5', '6', '7', '8', '9', '10', '11', '12', '13', '14', '15', '16', '17', '18', '19', '20']\u001b[0m\n",
      "\u001b[34mTraining random forest model.....\u001b[0m\n",
      "\u001b[34mModel persisted at /opt/ml/model/model.joblib\u001b[0m\n",
      "\u001b[34m----Metrics results for testing data -----\u001b[0m\n",
      "\u001b[34mTest accuracy is:  0.8541666666666666\u001b[0m\n",
      "\u001b[34mClassification report: \n",
      "              precision    recall  f1-score   support\n",
      "       heart       0.83      0.71      0.77         7\n",
      "    livelong       1.00      0.60      0.75         5\n",
      "        okay       1.00      0.86      0.92         7\n",
      "       peace       1.00      1.00      1.00         4\n",
      "       smile       0.75      1.00      0.86         6\n",
      "        stop       0.67      1.00      0.80         4\n",
      "  thumbsdown       0.83      0.83      0.83         6\n",
      "    thumbsup       0.89      0.89      0.89         9\n",
      "    accuracy                           0.85        48\n",
      "   macro avg       0.87      0.86      0.85        48\u001b[0m\n",
      "\u001b[34mweighted avg       0.88      0.85      0.85        48\u001b[0m\n",
      "\u001b[34m2023-10-30 17:23:57,128 sagemaker-containers INFO     Reporting training SUCCESS\u001b[0m\n",
      "\n",
      "2023-10-30 17:24:16 Uploading - Uploading generated training model\n",
      "2023-10-30 17:24:16 Completed - Training job completed\n",
      "Training seconds: 87\n",
      "Billable seconds: 29\n",
      "Managed Spot Training savings: 66.7%\n"
     ]
    }
   ],
   "source": [
    "sklearn_estimator.fit({\"train\" : trainpath, \"test\": testpath}, wait=True)"
   ]
  },
  {
   "cell_type": "code",
   "execution_count": 7,
   "id": "8fb3d7c1-f757-45f6-a098-8ed215e0a7eb",
   "metadata": {},
   "outputs": [
    {
     "name": "stdout",
     "output_type": "stream",
     "text": [
      "\n",
      "2023-10-30 17:24:16 Starting - Preparing the instances for training\n",
      "2023-10-30 17:24:16 Downloading - Downloading input data\n",
      "2023-10-30 17:24:16 Training - Training image download completed. Training in progress.\n",
      "2023-10-30 17:24:16 Uploading - Uploading generated training model\n",
      "2023-10-30 17:24:16 Completed - Training job completed\n",
      "Model artifact persisted as s3://sagemaker-us-east-2-765477734195/RF-custom-sklearn-2023-10-30-17-21-10-992/output/model.tar.gz\n"
     ]
    }
   ],
   "source": [
    "sklearn_estimator.latest_training_job.wait(logs=\"None\")\n",
    "artifact = sm_boto3.describe_training_job(\n",
    "    TrainingJobName = sklearn_estimator.latest_training_job.name\n",
    ")[\"ModelArtifacts\"][\"S3ModelArtifacts\"]\n",
    "\n",
    "print(\"Model artifact persisted as \" + artifact)"
   ]
  },
  {
   "cell_type": "code",
   "execution_count": 8,
   "id": "a1349069-d7f2-4635-b899-2368530d9d85",
   "metadata": {},
   "outputs": [
    {
     "name": "stdout",
     "output_type": "stream",
     "text": [
      "sagemaker.config INFO - Not applying SDK defaults from location: C:\\ProgramData\\sagemaker\\sagemaker\\config.yaml\n",
      "sagemaker.config INFO - Not applying SDK defaults from location: C:\\Users\\ACNusr2\\AppData\\Local\\sagemaker\\sagemaker\\config.yaml\n"
     ]
    }
   ],
   "source": [
    "from sagemaker.sklearn.model import SKLearnModel\n",
    "from time import gmtime, strftime\n",
    "\n",
    "model_name = \"Custom-sklearn-model-\" + strftime(\"%Y-%m-%d-%H-%M-%S\", gmtime())\n",
    "model = SKLearnModel(\n",
    "    name = model_name,\n",
    "    model_data = artifact,\n",
    "    role = \"arn:aws:iam::765477734195:role/AmazonSageMaker-ExecutionRole\",\n",
    "    entry_point = \"script.py\",\n",
    "    framework_version=FRAMEWORK_VERSION,\n",
    ")\n"
   ]
  },
  {
   "cell_type": "code",
   "execution_count": 9,
   "id": "36f23442-fd5a-4a8a-bd82-e1d8306c1bfa",
   "metadata": {},
   "outputs": [
    {
     "name": "stdout",
     "output_type": "stream",
     "text": [
      "EndpointName = Custom-sklearn-model-2023-10-30-17-28-33\n",
      "sagemaker.config INFO - Not applying SDK defaults from location: C:\\ProgramData\\sagemaker\\sagemaker\\config.yaml\n",
      "sagemaker.config INFO - Not applying SDK defaults from location: C:\\Users\\ACNusr2\\AppData\\Local\\sagemaker\\sagemaker\\config.yaml\n"
     ]
    },
    {
     "name": "stderr",
     "output_type": "stream",
     "text": [
      "INFO:sagemaker:Creating model with name: Custom-sklearn-model-2023-10-30-17-28-07\n",
      "INFO:sagemaker:Creating endpoint-config with name Custom-sklearn-model-2023-10-30-17-28-33\n",
      "INFO:sagemaker:Creating endpoint with name Custom-sklearn-model-2023-10-30-17-28-33\n"
     ]
    },
    {
     "name": "stdout",
     "output_type": "stream",
     "text": [
      "-----!"
     ]
    }
   ],
   "source": [
    "endpoint_name = \"Custom-sklearn-model-\" + strftime(\"%Y-%m-%d-%H-%M-%S\", gmtime())\n",
    "print(\"EndpointName = {}\".format(endpoint_name))\n",
    "\n",
    "predictor = model.deploy(\n",
    "    initial_instance_count=1,\n",
    "    instance_type=\"ml.m4.xlarge\",\n",
    "    endpoint_name=endpoint_name,\n",
    ")"
   ]
  },
  {
   "cell_type": "code",
   "execution_count": 25,
   "id": "3e266bc0-e208-4137-8ad8-0218127e029a",
   "metadata": {},
   "outputs": [
    {
     "data": {
      "text/plain": [
       "{'ResponseMetadata': {'RequestId': '9f64180d-b0e1-4274-913a-e13ac4efe6ba',\n",
       "  'HTTPStatusCode': 200,\n",
       "  'HTTPHeaders': {'x-amzn-requestid': '9f64180d-b0e1-4274-913a-e13ac4efe6ba',\n",
       "   'content-type': 'application/x-amz-json-1.1',\n",
       "   'content-length': '0',\n",
       "   'date': 'Sat, 28 Oct 2023 19:59:42 GMT'},\n",
       "  'RetryAttempts': 0}}"
      ]
     },
     "execution_count": 25,
     "metadata": {},
     "output_type": "execute_result"
    }
   ],
   "source": [
    "sm_boto3.delete_endpoint(EndpointName=endpoint_name)"
   ]
  },
  {
   "cell_type": "code",
   "execution_count": null,
   "id": "c916f11e-2edb-4b13-8baa-a2444949b6b3",
   "metadata": {},
   "outputs": [],
   "source": []
  }
 ],
 "metadata": {
  "kernelspec": {
   "display_name": "Python 3 (ipykernel)",
   "language": "python",
   "name": "python3"
  },
  "language_info": {
   "codemirror_mode": {
    "name": "ipython",
    "version": 3
   },
   "file_extension": ".py",
   "mimetype": "text/x-python",
   "name": "python",
   "nbconvert_exporter": "python",
   "pygments_lexer": "ipython3",
   "version": "3.8.18"
  }
 },
 "nbformat": 4,
 "nbformat_minor": 5
}
