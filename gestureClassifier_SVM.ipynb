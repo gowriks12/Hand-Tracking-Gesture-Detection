{
 "cells": [
  {
   "cell_type": "code",
   "execution_count": 22,
   "id": "cfcdb453",
   "metadata": {},
   "outputs": [],
   "source": [
    "from sklearn.metrics import confusion_matrix\n",
    "from sklearn.model_selection import train_test_split\n",
    "from sklearn import svm\n",
    "import matplotlib.pyplot as plt\n",
    "import numpy as np\n",
    "import pandas as pd\n",
    "import pickle"
   ]
  },
  {
   "cell_type": "code",
   "execution_count": 2,
   "id": "2c5a984a",
   "metadata": {},
   "outputs": [],
   "source": [
    "df = pd.read_csv(\"handlandmarks.csv\")"
   ]
  },
  {
   "cell_type": "code",
   "execution_count": 26,
   "id": "641045f3",
   "metadata": {},
   "outputs": [],
   "source": [
    "df.head(5)\n",
    "labels = df[\"class\"].tolist()\n"
   ]
  },
  {
   "cell_type": "code",
   "execution_count": 27,
   "id": "8126a08a",
   "metadata": {},
   "outputs": [],
   "source": [
    "# Train test split\n",
    "X = df.drop(columns = ['class'])\n",
    "y = labels\n",
    "X_train, X_test, y_train, y_test = train_test_split(X, y, train_size=0.8, random_state = 0)"
   ]
  },
  {
   "cell_type": "code",
   "execution_count": 28,
   "id": "963d340e",
   "metadata": {},
   "outputs": [],
   "source": [
    "rbf = svm.SVC(kernel='rbf', gamma=1, C=1, decision_function_shape='ovo').fit(X_train, y_train)\n",
    "rbf_pred = rbf.predict(X_test)\n",
    "accuracy_rbf = rbf.score(X_test, y_test)\n",
    "# print(accuracy_rbf)"
   ]
  },
  {
   "cell_type": "code",
   "execution_count": 29,
   "id": "1a3c5ed0",
   "metadata": {},
   "outputs": [],
   "source": [
    "linear = svm.SVC(kernel='linear', C=1, decision_function_shape='ovo').fit(X_train, y_train)\n",
    "linear_pred = linear.predict(X_test)\n",
    "accuracy_lin = linear.score(X_test, y_test)"
   ]
  },
  {
   "cell_type": "code",
   "execution_count": 30,
   "id": "dda90e19",
   "metadata": {},
   "outputs": [],
   "source": [
    "sig = svm.SVC(kernel='sigmoid', C=1, decision_function_shape='ovo').fit(X_train, y_train)\n",
    "sig_pred = sig.predict(X_test)\n",
    "accuracy_sig = sig.score(X_test, y_test)"
   ]
  },
  {
   "cell_type": "code",
   "execution_count": 31,
   "id": "624f7086",
   "metadata": {},
   "outputs": [],
   "source": [
    "poly = svm.SVC(kernel='poly', degree=3, C=1, decision_function_shape='ovo').fit(X_train, y_train)\n",
    "poly_pred = poly.predict(X_test)\n",
    "accuracy_poly = poly.score(X_test, y_test)"
   ]
  },
  {
   "cell_type": "code",
   "execution_count": 32,
   "id": "4c4d1e95",
   "metadata": {},
   "outputs": [
    {
     "name": "stdout",
     "output_type": "stream",
     "text": [
      "RBF 0.08333333333333333\n",
      "Linear 1.0\n",
      "Sigmoid 0.08333333333333333\n",
      "Polynomial 0.9791666666666666\n"
     ]
    }
   ],
   "source": [
    "print(\"RBF\",accuracy_rbf)\n",
    "print(\"Linear\",accuracy_lin)\n",
    "print(\"Sigmoid\",accuracy_sig)\n",
    "print(\"Polynomial\",accuracy_poly)"
   ]
  },
  {
   "cell_type": "code",
   "execution_count": 23,
   "id": "ecaf4520",
   "metadata": {},
   "outputs": [],
   "source": [
    "def create_svm_model(file):\n",
    "    df = pd.read_csv(file)\n",
    "    features = df.columns\n",
    "    labels = df[\"class\"].tolist()\n",
    "    \n",
    "    # Train test split\n",
    "    X = df.drop(columns = ['class'])\n",
    "    y = labels\n",
    "    X_train, X_test, y_train, y_test = train_test_split(X, y, train_size=0.8, random_state = 0)\n",
    "    \n",
    "    # Model polynomial kernel is used since it gives the best comparable accuracy\n",
    "    poly = svm.SVC(kernel='poly', degree=3, C=1, decision_function_shape='ovo').fit(X_train, y_train)\n",
    "    poly_pred = poly.predict(X_test)\n",
    "    accuracy_poly = poly.score(X_test, y_test)\n",
    "    print(\"Accuracy:\",accuracy_poly)\n",
    "    \n",
    "    return poly"
   ]
  },
  {
   "cell_type": "code",
   "execution_count": 24,
   "id": "eea27378",
   "metadata": {},
   "outputs": [
    {
     "name": "stdout",
     "output_type": "stream",
     "text": [
      "Accuracy: 0.9791666666666666\n"
     ]
    }
   ],
   "source": [
    "svm_model = create_svm_model(\"handlandmarks.csv\")\n",
    "pickle.dump(svm_model, open('svm_pickle_file.sav', 'wb'))"
   ]
  },
  {
   "cell_type": "code",
   "execution_count": 25,
   "id": "76445d3e",
   "metadata": {},
   "outputs": [
    {
     "name": "stdout",
     "output_type": "stream",
     "text": [
      "livelong\n"
     ]
    }
   ],
   "source": [
    "test = [0, 40.11234224026316, 78.89233169326408, 102.82509421342633, 133.60014970051492, 128.41339493993607, 188.76705220985997, 224.5373020235168, 254.03149411047443, 121.0495766204905, 193.8891435846783, 234.19649869287116, 267.1722290957651, 106.07544484940895, 148.08443537387717, 109.04127658827184, 79.37883848986453, 88.60022573334675, 99.72462083156798, 66.48308055437865, 42.485291572496]\n",
    "test1 = [0, 60.83584469702052, 118.06777714516353, 162.48384535085327, 207.03864373589778, 170.07351351694948, 227.343352662883, 258.30408436569485, 291.2387336876742, 173.9798838946618, 237.08437316702253, 274.23530042647684, 310.871356030111, 165.0272704737008, 227.17834403833479, 268.8215021161812, 306.28254929068356, 151.00993344810135, 203.17972339778396, 235.53555994796199, 269.3120866207085]\n",
    "test2 = [0, 47.41307836451879, 106.00471687618433, 154.434452114805, 191.12822920751398, 158.3729774930054, 153.3883959105121, 114.12712210513327, 121.49074038789952, 147.12239802287073, 144.183910336764, 94.72592042308166, 108.26818553942798, 135.6244815658294, 135.29966740535616, 94.76286192385707, 97.18538984847466, 128.89142717807107, 131.89768762188365, 101.84301645179212, 94.92101980067429]\n",
    "# load the model from disk\n",
    "loaded_model = pickle.load(open('svm_pickle_file.sav', 'rb'))\n",
    "result = loaded_model.predict([test1]) \n",
    "print(result[0])"
   ]
  },
  {
   "cell_type": "code",
   "execution_count": null,
   "id": "b2933139",
   "metadata": {},
   "outputs": [],
   "source": []
  }
 ],
 "metadata": {
  "kernelspec": {
   "display_name": "Python 3",
   "language": "python",
   "name": "python3"
  },
  "language_info": {
   "codemirror_mode": {
    "name": "ipython",
    "version": 3
   },
   "file_extension": ".py",
   "mimetype": "text/x-python",
   "name": "python",
   "nbconvert_exporter": "python",
   "pygments_lexer": "ipython3",
   "version": "3.8.8"
  }
 },
 "nbformat": 4,
 "nbformat_minor": 5
}
